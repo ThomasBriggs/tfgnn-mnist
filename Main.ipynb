{
 "cells": [
  {
   "cell_type": "code",
   "execution_count": 18,
   "metadata": {},
   "outputs": [],
   "source": [
    "import tensorflow as tf\n",
    "import tensorflow_gnn as tfgnn\n",
    "from matplotlib import pyplot as plt\n",
    "import numpy as np\n",
    "from importlib import reload\n",
    "from sys import modules\n",
    "from schema import TYPE_SPEC\n",
    "from generators import load_dataset_from_data"
   ]
  },
  {
   "cell_type": "code",
   "execution_count": 2,
   "metadata": {},
   "outputs": [],
   "source": [
    "reload(modules[\"schema\"])\n",
    "from schema import TYPE_SPEC\n",
    "spec = TYPE_SPEC[\"mnist_graph\"]"
   ]
  },
  {
   "cell_type": "code",
   "execution_count": 4,
   "metadata": {},
   "outputs": [
    {
     "name": "stdout",
     "output_type": "stream",
     "text": [
      "Model: \"gnn\"\n",
      "_________________________________________________________________\n",
      " Layer (type)                Output Shape              Param #   \n",
      "=================================================================\n",
      " input_1 (InputLayer)        [()]                      0         \n",
      "                                                                 \n",
      " graph_update_8 (GraphUpdate  ()                       259264    \n",
      " )                                                               \n",
      "                                                                 \n",
      " readout (Readout)           (784, 32)                 0         \n",
      "                                                                 \n",
      " dense (Dense)               (784, 10)                 330       \n",
      "                                                                 \n",
      "=================================================================\n",
      "Total params: 1,514\n",
      "Trainable params: 1,514\n",
      "Non-trainable params: 0\n",
      "_________________________________________________________________\n"
     ]
    },
    {
     "name": "stderr",
     "output_type": "stream",
     "text": [
      "2022-03-02 11:04:18.059778: W tensorflow/stream_executor/platform/default/dso_loader.cc:64] Could not load dynamic library 'libcuda.so.1'; dlerror: libcuda.so.1: cannot open shared object file: No such file or directory\n",
      "2022-03-02 11:04:18.059810: W tensorflow/stream_executor/cuda/cuda_driver.cc:269] failed call to cuInit: UNKNOWN ERROR (303)\n",
      "2022-03-02 11:04:18.059832: I tensorflow/stream_executor/cuda/cuda_diagnostics.cc:156] kernel driver does not appear to be running on this host (Thomas-Laptop): /proc/driver/nvidia/version does not exist\n",
      "2022-03-02 11:04:18.060037: I tensorflow/core/platform/cpu_feature_guard.cc:151] This TensorFlow binary is optimized with oneAPI Deep Neural Network Library (oneDNN) to use the following CPU instructions in performance-critical operations:  AVX2 FMA\n",
      "To enable them in other operations, rebuild TensorFlow with the appropriate compiler flags.\n"
     ]
    }
   ],
   "source": [
    "input = tf.keras.layers.Input(type_spec=spec)\n",
    "gnn = tfgnn.keras.ConvGNNBuilder(\n",
    "    lambda edge: tfgnn.keras.layers.SimpleConvolution(\n",
    "        tf.keras.layers.Dense(128)\n",
    "    ),\n",
    "    lambda node: tfgnn.keras.layers.NextStateFromConcat(\n",
    "        tf.keras.layers.Dense(64),\n",
    "    ),\n",
    "    )\n",
    "hidden = gnn.Convolve()(input)\n",
    "hidden = tfgnn.keras.layers.Readout(node_set_name=\"pixel\")(hidden)\n",
    "output = tf.keras.layers.Dense(10, activation=\"softmax\")(hidden)\n",
    "\n",
    "model = tf.keras.Model(input, output, name = \"gnn\")\n",
    "model.summary()"
   ]
  },
  {
   "cell_type": "code",
   "execution_count": 5,
   "metadata": {},
   "outputs": [],
   "source": [
    "model.compile(optimizer=\"adam\", loss=tf.keras.losses.categorical_crossentropy, metrics=[\"accuracy\"])"
   ]
  },
  {
   "cell_type": "code",
   "execution_count": 20,
   "metadata": {},
   "outputs": [],
   "source": [
    "reload(modules[\"generators\"])\n",
    "from generators import load_dataset_from_data\n",
    "\n",
    "(trn_img, trn_lbl), _ = tf.keras.datasets.mnist.load_data()\n",
    "trn_img = trn_img/255\n",
    "trn_graph = load_dataset_from_data(trn_img, trn_lbl, 1, spec)"
   ]
  },
  {
   "cell_type": "code",
   "execution_count": 22,
   "metadata": {},
   "outputs": [
    {
     "name": "stdout",
     "output_type": "stream",
     "text": [
      "(<tensorflow_gnn.graph.graph_tensor.GraphTensor object at 0x7fce10300ec0>, <tf.Tensor: shape=(1,), dtype=int64, numpy=array([5])>)\n"
     ]
    },
    {
     "name": "stderr",
     "output_type": "stream",
     "text": [
      "2022-03-02 11:08:24.903707: W tensorflow/core/kernels/data/cache_dataset_ops.cc:768] The calling iterator did not fully read the dataset being cached. In order to avoid unexpected truncation of the dataset, the partially cached contents of the dataset  will be discarded. This can happen if you have an input pipeline similar to `dataset.cache().take(k).repeat()`. You should use `dataset.take(k).cache().repeat()` instead.\n"
     ]
    },
    {
     "data": {
      "image/png": "[encoded data removed]",
      "text/plain": [
       "<Figure size 432x288 with 1 Axes>"
      ]
     },
     "metadata": {
      "needs_background": "light"
     },
     "output_type": "display_data"
    },
    {
     "name": "stdout",
     "output_type": "stream",
     "text": [
      "tf.Tensor([5], shape=(1,), dtype=int64)\n"
     ]
    }
   ],
   "source": [
    "# print(trn_graph)\n",
    "data = list(trn_graph.take(1))[0]\n",
    "print(data)\n",
    "plt.imshow(np.reshape(np.array(tfgnn.graph_tensor_to_values(data[0])[\"node_sets\"][\"pixel\"][\"hidden_state\"]), (28, 28)))\n",
    "plt.show()\n",
    "print(data[1])"
   ]
  },
  {
   "cell_type": "code",
   "execution_count": 8,
   "metadata": {},
   "outputs": [
    {
     "name": "stdout",
     "output_type": "stream",
     "text": [
      "Epoch 1/10\n"
     ]
    },
    {
     "ename": "InvalidArgumentError",
     "evalue": "Graph execution error:\n\nDetected at node 'gnn/graph_update_7/node_set_update/simple_convolution/edge_set_update/GatherV2_1' defined at (most recent call last):\n    File \"/usr/local/lib/python3.9/runpy.py\", line 197, in _run_module_as_main\n      return _run_code(code, main_globals, None,\n    File \"/usr/local/lib/python3.9/runpy.py\", line 87, in _run_code\n      exec(code, run_globals)\n    File \"/home/thomas/Documents/tfgnn-mnist/env/lib/python3.9/site-packages/ipykernel_launcher.py\", line 16, in <module>\n      app.launch_new_instance()\n    File \"/home/thomas/Documents/tfgnn-mnist/env/lib/python3.9/site-packages/traitlets/config/application.py\", line 846, in launch_instance\n      app.start()\n    File \"/home/thomas/Documents/tfgnn-mnist/env/lib/python3.9/site-packages/ipykernel/kernelapp.py\", line 677, in start\n      self.io_loop.start()\n    File \"/home/thomas/Documents/tfgnn-mnist/env/lib/python3.9/site-packages/tornado/platform/asyncio.py\", line 199, in start\n      self.asyncio_loop.run_forever()\n    File \"/usr/local/lib/python3.9/asyncio/base_events.py\", line 596, in run_forever\n      self._run_once()\n    File \"/usr/local/lib/python3.9/asyncio/base_events.py\", line 1890, in _run_once\n      handle._run()\n    File \"/usr/local/lib/python3.9/asyncio/events.py\", line 80, in _run\n      self._context.run(self._callback, *self._args)\n    File \"/home/thomas/Documents/tfgnn-mnist/env/lib/python3.9/site-packages/ipykernel/kernelbase.py\", line 471, in dispatch_queue\n      await self.process_one()\n    File \"/home/thomas/Documents/tfgnn-mnist/env/lib/python3.9/site-packages/ipykernel/kernelbase.py\", line 460, in process_one\n      await dispatch(*args)\n    File \"/home/thomas/Documents/tfgnn-mnist/env/lib/python3.9/site-packages/ipykernel/kernelbase.py\", line 367, in dispatch_shell\n      await result\n    File \"/home/thomas/Documents/tfgnn-mnist/env/lib/python3.9/site-packages/ipykernel/kernelbase.py\", line 662, in execute_request\n      reply_content = await reply_content\n    File \"/home/thomas/Documents/tfgnn-mnist/env/lib/python3.9/site-packages/ipykernel/ipkernel.py\", line 360, in do_execute\n      res = shell.run_cell(code, store_history=store_history, silent=silent)\n    File \"/home/thomas/Documents/tfgnn-mnist/env/lib/python3.9/site-packages/ipykernel/zmqshell.py\", line 532, in run_cell\n      return super().run_cell(*args, **kwargs)\n    File \"/home/thomas/Documents/tfgnn-mnist/env/lib/python3.9/site-packages/IPython/core/interactiveshell.py\", line 2833, in run_cell\n      result = self._run_cell(\n    File \"/home/thomas/Documents/tfgnn-mnist/env/lib/python3.9/site-packages/IPython/core/interactiveshell.py\", line 2879, in _run_cell\n      return runner(coro)\n    File \"/home/thomas/Documents/tfgnn-mnist/env/lib/python3.9/site-packages/IPython/core/async_helpers.py\", line 129, in _pseudo_sync_runner\n      coro.send(None)\n    File \"/home/thomas/Documents/tfgnn-mnist/env/lib/python3.9/site-packages/IPython/core/interactiveshell.py\", line 3077, in run_cell_async\n      has_raised = await self.run_ast_nodes(code_ast.body, cell_name,\n    File \"/home/thomas/Documents/tfgnn-mnist/env/lib/python3.9/site-packages/IPython/core/interactiveshell.py\", line 3280, in run_ast_nodes\n      if await self.run_code(code, result, async_=asy):\n    File \"/home/thomas/Documents/tfgnn-mnist/env/lib/python3.9/site-packages/IPython/core/interactiveshell.py\", line 3340, in run_code\n      exec(code_obj, self.user_global_ns, self.user_ns)\n    File \"/tmp/ipykernel_50752/3319101676.py\", line 1, in <cell line: 1>\n      model.fit(trn_graph, epochs=10)\n    File \"/home/thomas/Documents/tfgnn-mnist/env/lib/python3.9/site-packages/keras/utils/traceback_utils.py\", line 64, in error_handler\n      return fn(*args, **kwargs)\n    File \"/home/thomas/Documents/tfgnn-mnist/env/lib/python3.9/site-packages/keras/engine/training.py\", line 1384, in fit\n      tmp_logs = self.train_function(iterator)\n    File \"/home/thomas/Documents/tfgnn-mnist/env/lib/python3.9/site-packages/keras/engine/training.py\", line 1021, in train_function\n      return step_function(self, iterator)\n    File \"/home/thomas/Documents/tfgnn-mnist/env/lib/python3.9/site-packages/keras/engine/training.py\", line 1010, in step_function\n      outputs = model.distribute_strategy.run(run_step, args=(data,))\n    File \"/home/thomas/Documents/tfgnn-mnist/env/lib/python3.9/site-packages/keras/engine/training.py\", line 1000, in run_step\n      outputs = model.train_step(data)\n    File \"/home/thomas/Documents/tfgnn-mnist/env/lib/python3.9/site-packages/keras/engine/training.py\", line 859, in train_step\n      y_pred = self(x, training=True)\n    File \"/home/thomas/Documents/tfgnn-mnist/env/lib/python3.9/site-packages/keras/utils/traceback_utils.py\", line 64, in error_handler\n      return fn(*args, **kwargs)\n    File \"/home/thomas/Documents/tfgnn-mnist/env/lib/python3.9/site-packages/keras/engine/base_layer.py\", line 1096, in __call__\n      outputs = call_fn(inputs, *args, **kwargs)\n    File \"/home/thomas/Documents/tfgnn-mnist/env/lib/python3.9/site-packages/keras/utils/traceback_utils.py\", line 92, in error_handler\n      return fn(*args, **kwargs)\n    File \"/home/thomas/Documents/tfgnn-mnist/env/lib/python3.9/site-packages/keras/engine/functional.py\", line 451, in call\n      return self._run_internal_graph(\n    File \"/home/thomas/Documents/tfgnn-mnist/env/lib/python3.9/site-packages/keras/engine/functional.py\", line 589, in _run_internal_graph\n      outputs = node.layer(*args, **kwargs)\n    File \"/home/thomas/Documents/tfgnn-mnist/env/lib/python3.9/site-packages/keras/utils/traceback_utils.py\", line 64, in error_handler\n      return fn(*args, **kwargs)\n    File \"/home/thomas/Documents/tfgnn-mnist/env/lib/python3.9/site-packages/keras/engine/base_layer.py\", line 1096, in __call__\n      outputs = call_fn(inputs, *args, **kwargs)\n    File \"/home/thomas/Documents/tfgnn-mnist/env/lib/python3.9/site-packages/keras/utils/traceback_utils.py\", line 92, in error_handler\n      return fn(*args, **kwargs)\n    File \"/home/thomas/Documents/tfgnn-mnist/env/lib/python3.9/site-packages/tensorflow_gnn/graph/keras/layers/graph_update.py\", line 218, in call\n      update_fn(graph, node_set_name=node_set_name)))\n    File \"/home/thomas/Documents/tfgnn-mnist/env/lib/python3.9/site-packages/keras/utils/traceback_utils.py\", line 64, in error_handler\n      return fn(*args, **kwargs)\n    File \"/home/thomas/Documents/tfgnn-mnist/env/lib/python3.9/site-packages/keras/engine/base_layer.py\", line 1096, in __call__\n      outputs = call_fn(inputs, *args, **kwargs)\n    File \"/home/thomas/Documents/tfgnn-mnist/env/lib/python3.9/site-packages/keras/utils/traceback_utils.py\", line 92, in error_handler\n      return fn(*args, **kwargs)\n    File \"/home/thomas/Documents/tfgnn-mnist/env/lib/python3.9/site-packages/tensorflow_gnn/graph/keras/layers/graph_update.py\", line 388, in call\n      input_from_edge_sets[edge_set_name] = input_fn(\n    File \"/home/thomas/Documents/tfgnn-mnist/env/lib/python3.9/site-packages/keras/utils/traceback_utils.py\", line 64, in error_handler\n      return fn(*args, **kwargs)\n    File \"/home/thomas/Documents/tfgnn-mnist/env/lib/python3.9/site-packages/keras/engine/base_layer.py\", line 1096, in __call__\n      outputs = call_fn(inputs, *args, **kwargs)\n    File \"/home/thomas/Documents/tfgnn-mnist/env/lib/python3.9/site-packages/keras/utils/traceback_utils.py\", line 92, in error_handler\n      return fn(*args, **kwargs)\n    File \"/home/thomas/Documents/tfgnn-mnist/env/lib/python3.9/site-packages/tensorflow_gnn/graph/keras/layers/convolutions.py\", line 58, in call\n      messages = self._edge_set_update(graph, edge_set_name=edge_set_name)\n    File \"/home/thomas/Documents/tfgnn-mnist/env/lib/python3.9/site-packages/keras/utils/traceback_utils.py\", line 64, in error_handler\n      return fn(*args, **kwargs)\n    File \"/home/thomas/Documents/tfgnn-mnist/env/lib/python3.9/site-packages/keras/engine/base_layer.py\", line 1096, in __call__\n      outputs = call_fn(inputs, *args, **kwargs)\n    File \"/home/thomas/Documents/tfgnn-mnist/env/lib/python3.9/site-packages/keras/utils/traceback_utils.py\", line 92, in error_handler\n      return fn(*args, **kwargs)\n    File \"/home/thomas/Documents/tfgnn-mnist/env/lib/python3.9/site-packages/tensorflow_gnn/graph/keras/layers/graph_update.py\", line 304, in call\n      input_from_incident_nodes[node_tag] = ops.broadcast_node_to_edges(\n    File \"/home/thomas/Documents/tfgnn-mnist/env/lib/python3.9/site-packages/tensorflow_gnn/graph/graph_tensor_ops.py\", line 80, in broadcast_node_to_edges\n      return tf.gather(node_value, adjacency[node_tag])\nNode: 'gnn/graph_update_7/node_set_update/simple_convolution/edge_set_update/GatherV2_1'\nindices[1488] = 760 is not in [0, 1)\n\t [[{{node gnn/graph_update_7/node_set_update/simple_convolution/edge_set_update/GatherV2_1}}]] [Op:__inference_train_function_9197]",
     "output_type": "error",
     "traceback": [
      "\u001b[0;31m---------------------------------------------------------------------------\u001b[0m",
      "\u001b[0;31mInvalidArgumentError\u001b[0m                      Traceback (most recent call last)",
      "\u001b[1;32m/home/thomas/Documents/tfgnn-mnist/Main.ipynb Cell 7'\u001b[0m in \u001b[0;36m<cell line: 1>\u001b[0;34m()\u001b[0m\n\u001b[0;32m----> <a href='vscode-notebook-cell:/home/thomas/Documents/tfgnn-mnist/Main.ipynb#ch0000006?line=0'>1</a>\u001b[0m model\u001b[39m.\u001b[39;49mfit(trn_graph, epochs\u001b[39m=\u001b[39;49m\u001b[39m10\u001b[39;49m)\n",
      "File \u001b[0;32m~/Documents/tfgnn-mnist/env/lib/python3.9/site-packages/keras/utils/traceback_utils.py:67\u001b[0m, in \u001b[0;36mfilter_traceback.<locals>.error_handler\u001b[0;34m(*args, **kwargs)\u001b[0m\n\u001b[1;32m     <a href='file:///~/Documents/tfgnn-mnist/env/lib/python3.9/site-packages/keras/utils/traceback_utils.py?line=64'>65</a>\u001b[0m \u001b[39mexcept\u001b[39;00m \u001b[39mException\u001b[39;00m \u001b[39mas\u001b[39;00m e:  \u001b[39m# pylint: disable=broad-except\u001b[39;00m\n\u001b[1;32m     <a href='file:///~/Documents/tfgnn-mnist/env/lib/python3.9/site-packages/keras/utils/traceback_utils.py?line=65'>66</a>\u001b[0m   filtered_tb \u001b[39m=\u001b[39m _process_traceback_frames(e\u001b[39m.\u001b[39m__traceback__)\n\u001b[0;32m---> <a href='file:///~/Documents/tfgnn-mnist/env/lib/python3.9/site-packages/keras/utils/traceback_utils.py?line=66'>67</a>\u001b[0m   \u001b[39mraise\u001b[39;00m e\u001b[39m.\u001b[39mwith_traceback(filtered_tb) \u001b[39mfrom\u001b[39;00m \u001b[39mNone\u001b[39m\n\u001b[1;32m     <a href='file:///~/Documents/tfgnn-mnist/env/lib/python3.9/site-packages/keras/utils/traceback_utils.py?line=67'>68</a>\u001b[0m \u001b[39mfinally\u001b[39;00m:\n\u001b[1;32m     <a href='file:///~/Documents/tfgnn-mnist/env/lib/python3.9/site-packages/keras/utils/traceback_utils.py?line=68'>69</a>\u001b[0m   \u001b[39mdel\u001b[39;00m filtered_tb\n",
      "File \u001b[0;32m~/Documents/tfgnn-mnist/env/lib/python3.9/site-packages/tensorflow/python/eager/execute.py:54\u001b[0m, in \u001b[0;36mquick_execute\u001b[0;34m(op_name, num_outputs, inputs, attrs, ctx, name)\u001b[0m\n\u001b[1;32m     <a href='file:///~/Documents/tfgnn-mnist/env/lib/python3.9/site-packages/tensorflow/python/eager/execute.py?line=51'>52</a>\u001b[0m \u001b[39mtry\u001b[39;00m:\n\u001b[1;32m     <a href='file:///~/Documents/tfgnn-mnist/env/lib/python3.9/site-packages/tensorflow/python/eager/execute.py?line=52'>53</a>\u001b[0m   ctx\u001b[39m.\u001b[39mensure_initialized()\n\u001b[0;32m---> <a href='file:///~/Documents/tfgnn-mnist/env/lib/python3.9/site-packages/tensorflow/python/eager/execute.py?line=53'>54</a>\u001b[0m   tensors \u001b[39m=\u001b[39m pywrap_tfe\u001b[39m.\u001b[39mTFE_Py_Execute(ctx\u001b[39m.\u001b[39m_handle, device_name, op_name,\n\u001b[1;32m     <a href='file:///~/Documents/tfgnn-mnist/env/lib/python3.9/site-packages/tensorflow/python/eager/execute.py?line=54'>55</a>\u001b[0m                                       inputs, attrs, num_outputs)\n\u001b[1;32m     <a href='file:///~/Documents/tfgnn-mnist/env/lib/python3.9/site-packages/tensorflow/python/eager/execute.py?line=55'>56</a>\u001b[0m \u001b[39mexcept\u001b[39;00m core\u001b[39m.\u001b[39m_NotOkStatusException \u001b[39mas\u001b[39;00m e:\n\u001b[1;32m     <a href='file:///~/Documents/tfgnn-mnist/env/lib/python3.9/site-packages/tensorflow/python/eager/execute.py?line=56'>57</a>\u001b[0m   \u001b[39mif\u001b[39;00m name \u001b[39mis\u001b[39;00m \u001b[39mnot\u001b[39;00m \u001b[39mNone\u001b[39;00m:\n",
      "\u001b[0;31mInvalidArgumentError\u001b[0m: Graph execution error:\n\nDetected at node 'gnn/graph_update_7/node_set_update/simple_convolution/edge_set_update/GatherV2_1' defined at (most recent call last):\n    File \"/usr/local/lib/python3.9/runpy.py\", line 197, in _run_module_as_main\n      return _run_code(code, main_globals, None,\n    File \"/usr/local/lib/python3.9/runpy.py\", line 87, in _run_code\n      exec(code, run_globals)\n    File \"/home/thomas/Documents/tfgnn-mnist/env/lib/python3.9/site-packages/ipykernel_launcher.py\", line 16, in <module>\n      app.launch_new_instance()\n    File \"/home/thomas/Documents/tfgnn-mnist/env/lib/python3.9/site-packages/traitlets/config/application.py\", line 846, in launch_instance\n      app.start()\n    File \"/home/thomas/Documents/tfgnn-mnist/env/lib/python3.9/site-packages/ipykernel/kernelapp.py\", line 677, in start\n      self.io_loop.start()\n    File \"/home/thomas/Documents/tfgnn-mnist/env/lib/python3.9/site-packages/tornado/platform/asyncio.py\", line 199, in start\n      self.asyncio_loop.run_forever()\n    File \"/usr/local/lib/python3.9/asyncio/base_events.py\", line 596, in run_forever\n      self._run_once()\n    File \"/usr/local/lib/python3.9/asyncio/base_events.py\", line 1890, in _run_once\n      handle._run()\n    File \"/usr/local/lib/python3.9/asyncio/events.py\", line 80, in _run\n      self._context.run(self._callback, *self._args)\n    File \"/home/thomas/Documents/tfgnn-mnist/env/lib/python3.9/site-packages/ipykernel/kernelbase.py\", line 471, in dispatch_queue\n      await self.process_one()\n    File \"/home/thomas/Documents/tfgnn-mnist/env/lib/python3.9/site-packages/ipykernel/kernelbase.py\", line 460, in process_one\n      await dispatch(*args)\n    File \"/home/thomas/Documents/tfgnn-mnist/env/lib/python3.9/site-packages/ipykernel/kernelbase.py\", line 367, in dispatch_shell\n      await result\n    File \"/home/thomas/Documents/tfgnn-mnist/env/lib/python3.9/site-packages/ipykernel/kernelbase.py\", line 662, in execute_request\n      reply_content = await reply_content\n    File \"/home/thomas/Documents/tfgnn-mnist/env/lib/python3.9/site-packages/ipykernel/ipkernel.py\", line 360, in do_execute\n      res = shell.run_cell(code, store_history=store_history, silent=silent)\n    File \"/home/thomas/Documents/tfgnn-mnist/env/lib/python3.9/site-packages/ipykernel/zmqshell.py\", line 532, in run_cell\n      return super().run_cell(*args, **kwargs)\n    File \"/home/thomas/Documents/tfgnn-mnist/env/lib/python3.9/site-packages/IPython/core/interactiveshell.py\", line 2833, in run_cell\n      result = self._run_cell(\n    File \"/home/thomas/Documents/tfgnn-mnist/env/lib/python3.9/site-packages/IPython/core/interactiveshell.py\", line 2879, in _run_cell\n      return runner(coro)\n    File \"/home/thomas/Documents/tfgnn-mnist/env/lib/python3.9/site-packages/IPython/core/async_helpers.py\", line 129, in _pseudo_sync_runner\n      coro.send(None)\n    File \"/home/thomas/Documents/tfgnn-mnist/env/lib/python3.9/site-packages/IPython/core/interactiveshell.py\", line 3077, in run_cell_async\n      has_raised = await self.run_ast_nodes(code_ast.body, cell_name,\n    File \"/home/thomas/Documents/tfgnn-mnist/env/lib/python3.9/site-packages/IPython/core/interactiveshell.py\", line 3280, in run_ast_nodes\n      if await self.run_code(code, result, async_=asy):\n    File \"/home/thomas/Documents/tfgnn-mnist/env/lib/python3.9/site-packages/IPython/core/interactiveshell.py\", line 3340, in run_code\n      exec(code_obj, self.user_global_ns, self.user_ns)\n    File \"/tmp/ipykernel_50752/3319101676.py\", line 1, in <cell line: 1>\n      model.fit(trn_graph, epochs=10)\n    File \"/home/thomas/Documents/tfgnn-mnist/env/lib/python3.9/site-packages/keras/utils/traceback_utils.py\", line 64, in error_handler\n      return fn(*args, **kwargs)\n    File \"/home/thomas/Documents/tfgnn-mnist/env/lib/python3.9/site-packages/keras/engine/training.py\", line 1384, in fit\n      tmp_logs = self.train_function(iterator)\n    File \"/home/thomas/Documents/tfgnn-mnist/env/lib/python3.9/site-packages/keras/engine/training.py\", line 1021, in train_function\n      return step_function(self, iterator)\n    File \"/home/thomas/Documents/tfgnn-mnist/env/lib/python3.9/site-packages/keras/engine/training.py\", line 1010, in step_function\n      outputs = model.distribute_strategy.run(run_step, args=(data,))\n    File \"/home/thomas/Documents/tfgnn-mnist/env/lib/python3.9/site-packages/keras/engine/training.py\", line 1000, in run_step\n      outputs = model.train_step(data)\n    File \"/home/thomas/Documents/tfgnn-mnist/env/lib/python3.9/site-packages/keras/engine/training.py\", line 859, in train_step\n      y_pred = self(x, training=True)\n    File \"/home/thomas/Documents/tfgnn-mnist/env/lib/python3.9/site-packages/keras/utils/traceback_utils.py\", line 64, in error_handler\n      return fn(*args, **kwargs)\n    File \"/home/thomas/Documents/tfgnn-mnist/env/lib/python3.9/site-packages/keras/engine/base_layer.py\", line 1096, in __call__\n      outputs = call_fn(inputs, *args, **kwargs)\n    File \"/home/thomas/Documents/tfgnn-mnist/env/lib/python3.9/site-packages/keras/utils/traceback_utils.py\", line 92, in error_handler\n      return fn(*args, **kwargs)\n    File \"/home/thomas/Documents/tfgnn-mnist/env/lib/python3.9/site-packages/keras/engine/functional.py\", line 451, in call\n      return self._run_internal_graph(\n    File \"/home/thomas/Documents/tfgnn-mnist/env/lib/python3.9/site-packages/keras/engine/functional.py\", line 589, in _run_internal_graph\n      outputs = node.layer(*args, **kwargs)\n    File \"/home/thomas/Documents/tfgnn-mnist/env/lib/python3.9/site-packages/keras/utils/traceback_utils.py\", line 64, in error_handler\n      return fn(*args, **kwargs)\n    File \"/home/thomas/Documents/tfgnn-mnist/env/lib/python3.9/site-packages/keras/engine/base_layer.py\", line 1096, in __call__\n      outputs = call_fn(inputs, *args, **kwargs)\n    File \"/home/thomas/Documents/tfgnn-mnist/env/lib/python3.9/site-packages/keras/utils/traceback_utils.py\", line 92, in error_handler\n      return fn(*args, **kwargs)\n    File \"/home/thomas/Documents/tfgnn-mnist/env/lib/python3.9/site-packages/tensorflow_gnn/graph/keras/layers/graph_update.py\", line 218, in call\n      update_fn(graph, node_set_name=node_set_name)))\n    File \"/home/thomas/Documents/tfgnn-mnist/env/lib/python3.9/site-packages/keras/utils/traceback_utils.py\", line 64, in error_handler\n      return fn(*args, **kwargs)\n    File \"/home/thomas/Documents/tfgnn-mnist/env/lib/python3.9/site-packages/keras/engine/base_layer.py\", line 1096, in __call__\n      outputs = call_fn(inputs, *args, **kwargs)\n    File \"/home/thomas/Documents/tfgnn-mnist/env/lib/python3.9/site-packages/keras/utils/traceback_utils.py\", line 92, in error_handler\n      return fn(*args, **kwargs)\n    File \"/home/thomas/Documents/tfgnn-mnist/env/lib/python3.9/site-packages/tensorflow_gnn/graph/keras/layers/graph_update.py\", line 388, in call\n      input_from_edge_sets[edge_set_name] = input_fn(\n    File \"/home/thomas/Documents/tfgnn-mnist/env/lib/python3.9/site-packages/keras/utils/traceback_utils.py\", line 64, in error_handler\n      return fn(*args, **kwargs)\n    File \"/home/thomas/Documents/tfgnn-mnist/env/lib/python3.9/site-packages/keras/engine/base_layer.py\", line 1096, in __call__\n      outputs = call_fn(inputs, *args, **kwargs)\n    File \"/home/thomas/Documents/tfgnn-mnist/env/lib/python3.9/site-packages/keras/utils/traceback_utils.py\", line 92, in error_handler\n      return fn(*args, **kwargs)\n    File \"/home/thomas/Documents/tfgnn-mnist/env/lib/python3.9/site-packages/tensorflow_gnn/graph/keras/layers/convolutions.py\", line 58, in call\n      messages = self._edge_set_update(graph, edge_set_name=edge_set_name)\n    File \"/home/thomas/Documents/tfgnn-mnist/env/lib/python3.9/site-packages/keras/utils/traceback_utils.py\", line 64, in error_handler\n      return fn(*args, **kwargs)\n    File \"/home/thomas/Documents/tfgnn-mnist/env/lib/python3.9/site-packages/keras/engine/base_layer.py\", line 1096, in __call__\n      outputs = call_fn(inputs, *args, **kwargs)\n    File \"/home/thomas/Documents/tfgnn-mnist/env/lib/python3.9/site-packages/keras/utils/traceback_utils.py\", line 92, in error_handler\n      return fn(*args, **kwargs)\n    File \"/home/thomas/Documents/tfgnn-mnist/env/lib/python3.9/site-packages/tensorflow_gnn/graph/keras/layers/graph_update.py\", line 304, in call\n      input_from_incident_nodes[node_tag] = ops.broadcast_node_to_edges(\n    File \"/home/thomas/Documents/tfgnn-mnist/env/lib/python3.9/site-packages/tensorflow_gnn/graph/graph_tensor_ops.py\", line 80, in broadcast_node_to_edges\n      return tf.gather(node_value, adjacency[node_tag])\nNode: 'gnn/graph_update_7/node_set_update/simple_convolution/edge_set_update/GatherV2_1'\nindices[1488] = 760 is not in [0, 1)\n\t [[{{node gnn/graph_update_7/node_set_update/simple_convolution/edge_set_update/GatherV2_1}}]] [Op:__inference_train_function_9197]"
     ]
    }
   ],
   "source": [
    "model.fit(trn_graph, epochs=10)"
   ]
  }
 ],
 "metadata": {
  "interpreter": {
   "hash": "d6cc1b48ae16f10eafcfc5d9834160e52b9d26f3378f7461b2bc28961673c20a"
  },
  "kernelspec": {
   "display_name": "Python 3.9.10 ('env': venv)",
   "language": "python",
   "name": "python3"
  },
  "language_info": {
   "codemirror_mode": {
    "name": "ipython",
    "version": 3
   },
   "file_extension": ".py",
   "mimetype": "text/x-python",
   "name": "python",
   "nbconvert_exporter": "python",
   "pygments_lexer": "ipython3",
   "version": "3.9.10"
  },
  "orig_nbformat": 4
 },
 "nbformat": 4,
 "nbformat_minor": 2
}
